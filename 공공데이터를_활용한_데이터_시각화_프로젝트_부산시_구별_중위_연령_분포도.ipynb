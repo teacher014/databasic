{
  "nbformat": 4,
  "nbformat_minor": 0,
  "metadata": {
    "kernelspec": {
      "display_name": "Python 3",
      "language": "python",
      "name": "python3"
    },
    "language_info": {
      "codemirror_mode": {
        "name": "ipython",
        "version": 3
      },
      "file_extension": ".py",
      "mimetype": "text/x-python",
      "name": "python",
      "nbconvert_exporter": "python",
      "pygments_lexer": "ipython3",
      "version": "3.9.6"
    },
    "colab": {
      "name": "공공데이터를 활용한 데이터 시각화 프로젝트_부산시 구별 중위 연령 분포도.ipynb",
      "provenance": [],
      "include_colab_link": true
    }
  },
  "cells": [
    {
      "cell_type": "markdown",
      "metadata": {
        "id": "view-in-github",
        "colab_type": "text"
      },
      "source": [
        "<a href=\"https://colab.research.google.com/github/teacher014/databasic/blob/main/%EA%B3%B5%EA%B3%B5%EB%8D%B0%EC%9D%B4%ED%84%B0%EB%A5%BC_%ED%99%9C%EC%9A%A9%ED%95%9C_%EB%8D%B0%EC%9D%B4%ED%84%B0_%EC%8B%9C%EA%B0%81%ED%99%94_%ED%94%84%EB%A1%9C%EC%A0%9D%ED%8A%B8_%EB%B6%80%EC%82%B0%EC%8B%9C_%EA%B5%AC%EB%B3%84_%EC%A4%91%EC%9C%84_%EC%97%B0%EB%A0%B9_%EB%B6%84%ED%8F%AC%EB%8F%84.ipynb\" target=\"_parent\"><img src=\"https://colab.research.google.com/assets/colab-badge.svg\" alt=\"Open In Colab\"/></a>"
      ]
    },
    {
      "cell_type": "code",
      "metadata": {
        "collapsed": true,
        "id": "HgMlnhLwHnNy"
      },
      "source": [
        "import csv\n",
        "from bs4 import BeautifulSoup"
      ],
      "execution_count": 1,
      "outputs": []
    },
    {
      "cell_type": "code",
      "metadata": {
        "collapsed": true,
        "id": "aJ6A9f6wHnN0"
      },
      "source": [
        "svg = open('Busan_districts.svg','r').read()"
      ],
      "execution_count": 2,
      "outputs": []
    },
    {
      "cell_type": "code",
      "metadata": {
        "id": "FRtZwrgTHnN1"
      },
      "source": [
        "data = csv.reader(open('bage.csv','r'),delimiter=\",\")"
      ],
      "execution_count": 3,
      "outputs": []
    },
    {
      "cell_type": "code",
      "metadata": {
        "collapsed": true,
        "id": "0uQVNjJAHnN1"
      },
      "source": [
        "age = {}\n",
        "result = []"
      ],
      "execution_count": 4,
      "outputs": []
    },
    {
      "cell_type": "code",
      "metadata": {
        "colab": {
          "base_uri": "https://localhost:8080/"
        },
        "id": "po0dweW6HnN1",
        "outputId": "98461673-93f2-4627-dcd5-58456745dec5"
      },
      "source": [
        "age['Jung-gu'] = 52\n",
        "print(age)"
      ],
      "execution_count": 5,
      "outputs": [
        {
          "output_type": "stream",
          "name": "stdout",
          "text": [
            "{'Jung-gu': 52}\n"
          ]
        }
      ]
    },
    {
      "cell_type": "code",
      "metadata": {
        "colab": {
          "base_uri": "https://localhost:8080/"
        },
        "id": "7e7vlyFpHnN2",
        "outputId": "d33bd616-716b-4141-afb1-f0b5189c0aab"
      },
      "source": [
        "result.append(age)\n",
        "print(result)"
      ],
      "execution_count": 6,
      "outputs": [
        {
          "output_type": "stream",
          "name": "stdout",
          "text": [
            "[{'Jung-gu': 52}]\n"
          ]
        }
      ]
    },
    {
      "cell_type": "code",
      "metadata": {
        "colab": {
          "base_uri": "https://localhost:8080/"
        },
        "id": "ghHJQDF1HnN3",
        "outputId": "bfe2cb0b-0ec7-4e3a-85e6-576aa35a7ad8"
      },
      "source": [
        "for row in data :\n",
        "    district = row[0]\n",
        "    count = float(row[1])\n",
        "    age[district] = count\n",
        "    result.append(age)\n",
        "print(age)"
      ],
      "execution_count": 7,
      "outputs": [
        {
          "output_type": "stream",
          "name": "stdout",
          "text": [
            "{'Jung-gu': 52.0, 'Seo-gu': 51.7, 'Dong-gu': 53.1, 'Yeongdo-gu': 52.7, 'Busanjin-gu': 47.1, 'Dongnae-gu': 47.1, 'Nam-gu': 47.3, 'Buk-gu': 46.8, 'Haeundae-gu': 46.5, 'Saha-gu': 47.3, 'Geumjeong-gu': 48.4, 'Gangseo-gu': 40.2, 'Yeonje-gu': 47.2, 'Suyeong-gu': 48.5, 'Sasang-gu': 48.1, 'Gijang-gun': 42.1}\n"
          ]
        }
      ]
    },
    {
      "cell_type": "code",
      "metadata": {
        "colab": {
          "base_uri": "https://localhost:8080/"
        },
        "id": "Sow0e95S_oz3",
        "outputId": "ff9c8281-59c7-4b35-a61d-bed20fc578e7"
      },
      "source": [
        "age"
      ],
      "execution_count": 8,
      "outputs": [
        {
          "output_type": "execute_result",
          "data": {
            "text/plain": [
              "{'Buk-gu': 46.8,\n",
              " 'Busanjin-gu': 47.1,\n",
              " 'Dong-gu': 53.1,\n",
              " 'Dongnae-gu': 47.1,\n",
              " 'Gangseo-gu': 40.2,\n",
              " 'Geumjeong-gu': 48.4,\n",
              " 'Gijang-gun': 42.1,\n",
              " 'Haeundae-gu': 46.5,\n",
              " 'Jung-gu': 52.0,\n",
              " 'Nam-gu': 47.3,\n",
              " 'Saha-gu': 47.3,\n",
              " 'Sasang-gu': 48.1,\n",
              " 'Seo-gu': 51.7,\n",
              " 'Suyeong-gu': 48.5,\n",
              " 'Yeongdo-gu': 52.7,\n",
              " 'Yeonje-gu': 47.2}"
            ]
          },
          "metadata": {},
          "execution_count": 8
        }
      ]
    },
    {
      "cell_type": "code",
      "metadata": {
        "colab": {
          "base_uri": "https://localhost:8080/"
        },
        "id": "Lyi93yJIBx4n",
        "outputId": "858dc5e9-f1ca-480f-bef7-6ddf11b553b3"
      },
      "source": [
        "sorted(age.items())\n",
        "\n",
        "sorted(age.items(), key = lambda item: item[1])"
      ],
      "execution_count": 11,
      "outputs": [
        {
          "output_type": "execute_result",
          "data": {
            "text/plain": [
              "[('Gangseo-gu', 40.2),\n",
              " ('Gijang-gun', 42.1),\n",
              " ('Haeundae-gu', 46.5),\n",
              " ('Buk-gu', 46.8),\n",
              " ('Busanjin-gu', 47.1),\n",
              " ('Dongnae-gu', 47.1),\n",
              " ('Yeonje-gu', 47.2),\n",
              " ('Nam-gu', 47.3),\n",
              " ('Saha-gu', 47.3),\n",
              " ('Sasang-gu', 48.1),\n",
              " ('Geumjeong-gu', 48.4),\n",
              " ('Suyeong-gu', 48.5),\n",
              " ('Seo-gu', 51.7),\n",
              " ('Jung-gu', 52.0),\n",
              " ('Yeongdo-gu', 52.7),\n",
              " ('Dong-gu', 53.1)]"
            ]
          },
          "metadata": {},
          "execution_count": 11
        }
      ]
    },
    {
      "cell_type": "code",
      "metadata": {
        "id": "MmnAGLoxHnN3"
      },
      "source": [
        "soup = BeautifulSoup(svg)\n",
        "paths = soup.findAll('path')\n",
        "print(paths)"
      ],
      "execution_count": null,
      "outputs": []
    },
    {
      "cell_type": "code",
      "metadata": {
        "collapsed": true,
        "id": "NJ5JC6Z5HnN4"
      },
      "source": [
        "#colors = [\"#F1EEF6\",\"#D4B9BA\",\"#C994C7\",\"#DF65B0\", \"#DD1C77\", \"#980043\"]\n",
        "colors = [\"#ADD8E6\",\"#00BFFF\",\"#1E90FF\",\"#6495ED\", \"#4169E1\", \"#4682B4\"]\n",
        "path_style = 'fill:'"
      ],
      "execution_count": 16,
      "outputs": []
    },
    {
      "cell_type": "code",
      "metadata": {
        "id": "5t9ipLq6HnN4"
      },
      "source": [
        "for p in paths:\n",
        "    if p['id']:\n",
        "        count = age[p['id']]\n",
        "        if count >= 48 :\n",
        "            color_class = 5\n",
        "        elif count >= 46:\n",
        "            color_class = 4\n",
        "        elif count >= 44:\n",
        "            color_class = 3\n",
        "        elif count >= 42:\n",
        "            color_class = 2\n",
        "        elif count >= 40:\n",
        "            color_class = 1\n",
        "        else :\n",
        "            color_class = 0\n",
        "        color = colors[color_class]\n",
        "        p['style'] = path_style + color\n",
        "print(soup.prettify())"
      ],
      "execution_count": 17,
      "outputs": []
    },
    {
      "cell_type": "code",
      "metadata": {
        "id": "rCekcnMF_8cn"
      },
      "source": [
        "# html 파일 저장\n",
        "import sys\n",
        "sys.stdout = open('busanm1.html','w')\n",
        " \n",
        "print(soup.prettify())"
      ],
      "execution_count": 18,
      "outputs": []
    }
  ]
}