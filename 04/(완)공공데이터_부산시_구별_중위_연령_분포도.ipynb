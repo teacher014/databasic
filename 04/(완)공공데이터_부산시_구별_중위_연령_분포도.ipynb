{
  "nbformat": 4,
  "nbformat_minor": 0,
  "metadata": {
    "kernelspec": {
      "display_name": "Python 3",
      "language": "python",
      "name": "python3"
    },
    "language_info": {
      "codemirror_mode": {
        "name": "ipython",
        "version": 3
      },
      "file_extension": ".py",
      "mimetype": "text/x-python",
      "name": "python",
      "nbconvert_exporter": "python",
      "pygments_lexer": "ipython3",
      "version": "3.9.6"
    },
    "colab": {
      "name": "(완)공공데이터 활용 데이터 시각화 프로젝트_부산시 구별 중위 연령 분포도.ipynb",
      "provenance": [],
      "collapsed_sections": [],
      "include_colab_link": true
    }
  },
  "cells": [
    {
      "cell_type": "markdown",
      "metadata": {
        "id": "view-in-github",
        "colab_type": "text"
      },
      "source": [
        "<a href=\"https://colab.research.google.com/github/teacher014/databasic/blob/main/04/(%EC%99%84)%EA%B3%B5%EA%B3%B5%EB%8D%B0%EC%9D%B4%ED%84%B0_%EB%B6%80%EC%82%B0%EC%8B%9C_%EA%B5%AC%EB%B3%84_%EC%A4%91%EC%9C%84_%EC%97%B0%EB%A0%B9_%EB%B6%84%ED%8F%AC%EB%8F%84.ipynb\" target=\"_parent\"><img src=\"https://colab.research.google.com/assets/colab-badge.svg\" alt=\"Open In Colab\"/></a>"
      ]
    },
    {
      "cell_type": "code",
      "metadata": {
        "collapsed": true,
        "id": "HgMlnhLwHnNy"
      },
      "source": [
        "import csv\n",
        "from bs4 import BeautifulSoup"
      ],
      "execution_count": null,
      "outputs": []
    },
    {
      "cell_type": "code",
      "metadata": {
        "collapsed": true,
        "id": "aJ6A9f6wHnN0"
      },
      "source": [
        "svg = open('Busan_districts.svg','r').read()"
      ],
      "execution_count": null,
      "outputs": []
    },
    {
      "cell_type": "code",
      "metadata": {
        "id": "FRtZwrgTHnN1"
      },
      "source": [
        "data = csv.reader(open('bage.csv','r'),delimiter=\",\")"
      ],
      "execution_count": null,
      "outputs": []
    },
    {
      "cell_type": "code",
      "metadata": {
        "collapsed": true,
        "id": "0uQVNjJAHnN1"
      },
      "source": [
        "age = {}\n",
        "result = []"
      ],
      "execution_count": null,
      "outputs": []
    },
    {
      "cell_type": "code",
      "metadata": {
        "colab": {
          "base_uri": "https://localhost:8080/"
        },
        "id": "po0dweW6HnN1",
        "outputId": "301cc18f-455b-4117-af8d-ebcdc92b7dd9"
      },
      "source": [
        "age['Jung-gu'] = 52\n",
        "print(age)"
      ],
      "execution_count": null,
      "outputs": [
        {
          "output_type": "stream",
          "name": "stdout",
          "text": [
            "{'Jung-gu': 52}\n"
          ]
        }
      ]
    },
    {
      "cell_type": "code",
      "metadata": {
        "colab": {
          "base_uri": "https://localhost:8080/"
        },
        "id": "7e7vlyFpHnN2",
        "outputId": "2943b42b-23cf-4ffb-f8d1-3b091ea72f8a"
      },
      "source": [
        "result.append(age)\n",
        "print(result)"
      ],
      "execution_count": null,
      "outputs": [
        {
          "output_type": "stream",
          "name": "stdout",
          "text": [
            "[{'Jung-gu': 52}]\n"
          ]
        }
      ]
    },
    {
      "cell_type": "code",
      "metadata": {
        "colab": {
          "base_uri": "https://localhost:8080/"
        },
        "id": "ghHJQDF1HnN3",
        "outputId": "09540ad5-f55d-4c27-8d0b-c7515c7509f3"
      },
      "source": [
        "for row in data :\n",
        "    district = row[0]\n",
        "    count = float(row[1])\n",
        "    age[district] = count\n",
        "    result.append(age)\n",
        "print(age)"
      ],
      "execution_count": null,
      "outputs": [
        {
          "output_type": "stream",
          "name": "stdout",
          "text": [
            "{'Jung-gu': 52, '\\ufeffJung-gu': 51.4, 'Seo-gu': 51.1, 'Dong-gu': 52.5, 'Yeongdo-gu': 51.9, 'Busanjin-gu': 46.5, 'Dongnae-gu': 46.6, 'Nam-gu': 46.7, 'Buk-gu': 46.3, 'Haeundae-gu': 46.0, 'Saha-gu': 46.6, 'Geumjeong-gu': 47.7, 'Gangseo-gu': 39.6, 'Yeonje-gu': 46.7, 'Suyeong-gu': 47.9, 'Sasang-gu': 47.4, 'Gijang-gun': 41.6}\n"
          ]
        }
      ]
    },
    {
      "cell_type": "code",
      "metadata": {
        "colab": {
          "base_uri": "https://localhost:8080/"
        },
        "id": "Sow0e95S_oz3",
        "outputId": "e391e53f-126b-4ea2-fed7-6b61d13562fb"
      },
      "source": [
        "age"
      ],
      "execution_count": null,
      "outputs": [
        {
          "output_type": "execute_result",
          "data": {
            "text/plain": [
              "{'Buk-gu': 46.3,\n",
              " 'Busanjin-gu': 46.5,\n",
              " 'Dong-gu': 52.5,\n",
              " 'Dongnae-gu': 46.6,\n",
              " 'Gangseo-gu': 39.6,\n",
              " 'Geumjeong-gu': 47.7,\n",
              " 'Gijang-gun': 41.6,\n",
              " 'Haeundae-gu': 46.0,\n",
              " 'Jung-gu': 52,\n",
              " 'Nam-gu': 46.7,\n",
              " 'Saha-gu': 46.6,\n",
              " 'Sasang-gu': 47.4,\n",
              " 'Seo-gu': 51.1,\n",
              " 'Suyeong-gu': 47.9,\n",
              " 'Yeongdo-gu': 51.9,\n",
              " 'Yeonje-gu': 46.7,\n",
              " '\\ufeffJung-gu': 51.4}"
            ]
          },
          "metadata": {},
          "execution_count": 9
        }
      ]
    },
    {
      "cell_type": "code",
      "metadata": {
        "colab": {
          "base_uri": "https://localhost:8080/"
        },
        "id": "Lyi93yJIBx4n",
        "outputId": "259927a0-6a0c-4306-8843-9d4e33460b0d"
      },
      "source": [
        "sorted(age.items())\n",
        "\n",
        "sorted(age.items(), key = lambda item: item[1])"
      ],
      "execution_count": null,
      "outputs": [
        {
          "output_type": "execute_result",
          "data": {
            "text/plain": [
              "[('Gangseo-gu', 39.6),\n",
              " ('Gijang-gun', 41.6),\n",
              " ('Haeundae-gu', 46.0),\n",
              " ('Buk-gu', 46.3),\n",
              " ('Busanjin-gu', 46.5),\n",
              " ('Dongnae-gu', 46.6),\n",
              " ('Saha-gu', 46.6),\n",
              " ('Nam-gu', 46.7),\n",
              " ('Yeonje-gu', 46.7),\n",
              " ('Sasang-gu', 47.4),\n",
              " ('Geumjeong-gu', 47.7),\n",
              " ('Suyeong-gu', 47.9),\n",
              " ('Seo-gu', 51.1),\n",
              " ('\\ufeffJung-gu', 51.4),\n",
              " ('Yeongdo-gu', 51.9),\n",
              " ('Jung-gu', 52),\n",
              " ('Dong-gu', 52.5)]"
            ]
          },
          "metadata": {},
          "execution_count": 10
        }
      ]
    },
    {
      "cell_type": "code",
      "metadata": {
        "id": "MmnAGLoxHnN3"
      },
      "source": [
        "soup = BeautifulSoup(svg)\n",
        "paths = soup.findAll('path')\n",
        "print(paths)"
      ],
      "execution_count": null,
      "outputs": []
    },
    {
      "cell_type": "code",
      "metadata": {
        "collapsed": true,
        "id": "NJ5JC6Z5HnN4"
      },
      "source": [
        "#colors = [\"#F1EEF6\",\"#D4B9BA\",\"#C994C7\",\"#DF65B0\", \"#DD1C77\", \"#980043\"]\n",
        "colors = [\"#ADD8E6\",\"#00BFFF\",\"#1E90FF\",\"#6495ED\", \"#4169E1\", \"#4682B4\"]\n",
        "path_style = 'fill:'"
      ],
      "execution_count": null,
      "outputs": []
    },
    {
      "cell_type": "code",
      "metadata": {
        "id": "5t9ipLq6HnN4"
      },
      "source": [
        "for p in paths:\n",
        "    if p['id']:\n",
        "        count = age[p['id']]\n",
        "        if count >= 48 :\n",
        "            color_class = 5\n",
        "        elif count >= 46:\n",
        "            color_class = 4\n",
        "        elif count >= 44:\n",
        "            color_class = 3\n",
        "        elif count >= 42:\n",
        "            color_class = 2\n",
        "        elif count >= 40:\n",
        "            color_class = 1\n",
        "        else :\n",
        "            color_class = 0\n",
        "        color = colors[color_class]\n",
        "        p['style'] = path_style + color\n",
        "print(soup.prettify())"
      ],
      "execution_count": null,
      "outputs": []
    },
    {
      "cell_type": "code",
      "metadata": {
        "id": "rCekcnMF_8cn"
      },
      "source": [
        "# html 파일 저장\n",
        "import sys\n",
        "sys.stdout = open('busanm1.html','w')\n",
        " \n",
        "print(soup.prettify())"
      ],
      "execution_count": null,
      "outputs": []
    },
    {
      "cell_type": "markdown",
      "metadata": {
        "id": "xDgZR48ggCh7"
      },
      "source": [
        "# color name"
      ]
    },
    {
      "cell_type": "code",
      "metadata": {
        "id": "eNODvg3Xf_3R"
      },
      "source": [
        "import matplotlib.pyplot as plt\n",
        "from matplotlib import colors as mcolors\n",
        "\n",
        "\n",
        "colors = dict(mcolors.BASE_COLORS, **mcolors.CSS4_COLORS)\n",
        "\n",
        "# Sort colors by hue, saturation, value and name.\n",
        "by_hsv = sorted((tuple(mcolors.rgb_to_hsv(mcolors.to_rgba(color)[:3])), name)\n",
        "                for name, color in colors.items())\n",
        "sorted_names = [name for hsv, name in by_hsv]\n",
        "\n",
        "n = len(sorted_names)\n",
        "ncols = 4\n",
        "nrows = n // ncols\n",
        "\n",
        "fig, ax = plt.subplots(figsize=(9, 8), dpi = 300)\n",
        "\n",
        "# Get height and width\n",
        "X, Y = fig.get_dpi() * fig.get_size_inches()\n",
        "h = Y / (nrows + 1)\n",
        "w = X / ncols\n",
        "\n",
        "for i, name in enumerate(sorted_names):\n",
        "    row = i % nrows\n",
        "    col = i // nrows\n",
        "    y = Y - (row * h) - h\n",
        "\n",
        "    xi_line = w * (col + 0.05)\n",
        "    xf_line = w * (col + 0.25)\n",
        "    xi_text = w * (col + 0.3)\n",
        "\n",
        "    ax.text(xi_text, y, name, fontsize=(10),\n",
        "            horizontalalignment='left',\n",
        "            verticalalignment='center')\n",
        "\n",
        "    ax.hlines(y + h * 0.1, xi_line, xf_line,\n",
        "              color=colors[name], linewidth=(6))\n",
        "\n",
        "ax.set_xlim(0, X)\n",
        "ax.set_ylim(0, Y)\n",
        "ax.set_axis_off()\n",
        "\n",
        "fig.subplots_adjust(left=0, right=1,\n",
        "                    top=1, bottom=0,\n",
        "                    hspace=0, wspace=0)\n",
        "plt.show()"
      ],
      "execution_count": null,
      "outputs": []
    }
  ]
}