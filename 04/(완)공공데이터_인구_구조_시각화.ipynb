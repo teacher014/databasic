{
  "nbformat": 4,
  "nbformat_minor": 0,
  "metadata": {
    "kernelspec": {
      "display_name": "Python 3",
      "language": "python",
      "name": "python3"
    },
    "language_info": {
      "codemirror_mode": {
        "name": "ipython",
        "version": 3
      },
      "file_extension": ".py",
      "mimetype": "text/x-python",
      "name": "python",
      "nbconvert_exporter": "python",
      "pygments_lexer": "ipython3",
      "version": "3.7.1"
    },
    "colab": {
      "name": "(완)공공데이터_인구 구조 시각화.ipynb",
      "provenance": [],
      "collapsed_sections": [],
      "include_colab_link": true
    }
  },
  "cells": [
    {
      "cell_type": "markdown",
      "metadata": {
        "id": "view-in-github",
        "colab_type": "text"
      },
      "source": [
        "<a href=\"https://colab.research.google.com/github/teacher014/databasic/blob/main/04/(%EC%99%84)%EA%B3%B5%EA%B3%B5%EB%8D%B0%EC%9D%B4%ED%84%B0_%EC%9D%B8%EA%B5%AC_%EA%B5%AC%EC%A1%B0_%EC%8B%9C%EA%B0%81%ED%99%94.ipynb\" target=\"_parent\"><img src=\"https://colab.research.google.com/assets/colab-badge.svg\" alt=\"Open In Colab\"/></a>"
      ]
    },
    {
      "cell_type": "markdown",
      "metadata": {
        "id": "Fb-elatWOLYM"
      },
      "source": [
        "###**데이터 준비<br>**\n",
        "**행정안전부 인구 공공데이터**\n",
        "* https://jumin.mois.go.kr/index.jsp#\n",
        "* 파일 저장시 - 'utf-8'권장\n",
        "\n",
        "age, gender csv 파일 준비"
      ]
    },
    {
      "cell_type": "code",
      "metadata": {
        "id": "Gjz9oMz4spYP"
      },
      "source": [
        "  # 한글글꼴 설치, 런타임 재시작\n",
        "  !sudo apt-get install -y fonts-nanum\n",
        "  !sudo fc-cache -fv\n",
        "  !rm ~/.cache/matplotlib -rf"
      ],
      "execution_count": null,
      "outputs": []
    },
    {
      "cell_type": "code",
      "metadata": {
        "id": "znvcVXWVsxCg"
      },
      "source": [
        "  import matplotlib.pyplot as plt\n",
        "\n",
        "  plt.rc('font', family='NanumGothic')"
      ],
      "execution_count": null,
      "outputs": []
    },
    {
      "cell_type": "code",
      "metadata": {
        "colab": {
          "base_uri": "https://localhost:8080/"
        },
        "id": "bDZup0Pl5zoP",
        "outputId": "c54d79ed-fd71-4aea-a8a8-5723820eb9cd"
      },
      "source": [
        "# 파일 읽어오기\n",
        "import csv\n",
        "f = open('age.csv')\n",
        "data = csv.reader(f)\n",
        "for row in data:\n",
        "  print(row)\n",
        "  break"
      ],
      "execution_count": null,
      "outputs": [
        {
          "output_type": "stream",
          "name": "stdout",
          "text": [
            "['\\ufeff행정구역', '2021년10월_계_총인구수', '2021년10월_계_연령구간인구수', '2021년10월_계_0세', '2021년10월_계_1세', '2021년10월_계_2세', '2021년10월_계_3세', '2021년10월_계_4세', '2021년10월_계_5세', '2021년10월_계_6세', '2021년10월_계_7세', '2021년10월_계_8세', '2021년10월_계_9세', '2021년10월_계_10세', '2021년10월_계_11세', '2021년10월_계_12세', '2021년10월_계_13세', '2021년10월_계_14세', '2021년10월_계_15세', '2021년10월_계_16세', '2021년10월_계_17세', '2021년10월_계_18세', '2021년10월_계_19세', '2021년10월_계_20세', '2021년10월_계_21세', '2021년10월_계_22세', '2021년10월_계_23세', '2021년10월_계_24세', '2021년10월_계_25세', '2021년10월_계_26세', '2021년10월_계_27세', '2021년10월_계_28세', '2021년10월_계_29세', '2021년10월_계_30세', '2021년10월_계_31세', '2021년10월_계_32세', '2021년10월_계_33세', '2021년10월_계_34세', '2021년10월_계_35세', '2021년10월_계_36세', '2021년10월_계_37세', '2021년10월_계_38세', '2021년10월_계_39세', '2021년10월_계_40세', '2021년10월_계_41세', '2021년10월_계_42세', '2021년10월_계_43세', '2021년10월_계_44세', '2021년10월_계_45세', '2021년10월_계_46세', '2021년10월_계_47세', '2021년10월_계_48세', '2021년10월_계_49세', '2021년10월_계_50세', '2021년10월_계_51세', '2021년10월_계_52세', '2021년10월_계_53세', '2021년10월_계_54세', '2021년10월_계_55세', '2021년10월_계_56세', '2021년10월_계_57세', '2021년10월_계_58세', '2021년10월_계_59세', '2021년10월_계_60세', '2021년10월_계_61세', '2021년10월_계_62세', '2021년10월_계_63세', '2021년10월_계_64세', '2021년10월_계_65세', '2021년10월_계_66세', '2021년10월_계_67세', '2021년10월_계_68세', '2021년10월_계_69세', '2021년10월_계_70세', '2021년10월_계_71세', '2021년10월_계_72세', '2021년10월_계_73세', '2021년10월_계_74세', '2021년10월_계_75세', '2021년10월_계_76세', '2021년10월_계_77세', '2021년10월_계_78세', '2021년10월_계_79세', '2021년10월_계_80세', '2021년10월_계_81세', '2021년10월_계_82세', '2021년10월_계_83세', '2021년10월_계_84세', '2021년10월_계_85세', '2021년10월_계_86세', '2021년10월_계_87세', '2021년10월_계_88세', '2021년10월_계_89세', '2021년10월_계_90세', '2021년10월_계_91세', '2021년10월_계_92세', '2021년10월_계_93세', '2021년10월_계_94세', '2021년10월_계_95세', '2021년10월_계_96세', '2021년10월_계_97세', '2021년10월_계_98세', '2021년10월_계_99세', '2021년10월_계_100세 이상']\n"
          ]
        }
      ]
    },
    {
      "cell_type": "code",
      "metadata": {
        "colab": {
          "base_uri": "https://localhost:8080/"
        },
        "id": "MN1RtGfZQti2",
        "outputId": "567c134f-4a27-4c13-f7e0-dd8232716e2d"
      },
      "source": [
        "# '연산제9동' 확인하기 - \n",
        "for row in data:\n",
        "  if '연산제9동' in row[0]:\n",
        "    print(row)"
      ],
      "execution_count": null,
      "outputs": [
        {
          "output_type": "stream",
          "name": "stdout",
          "text": [
            "['부산광역시 연제구 연산제9동(2647073000)', '35,319', '35,319', '166', '170', '195', '216', '224', '282', '271', '269', '277', '280', '277', '276', '261', '289', '276', '255', '286', '293', '322', '334', '386', '406', '389', '437', '421', '459', '414', '427', '467', '428', '408', '406', '393', '404', '393', '430', '419', '420', '492', '496', '563', '556', '513', '501', '478', '473', '466', '540', '558', '564', '629', '600', '642', '717', '625', '619', '572', '534', '652', '643', '746', '744', '688', '615', '632', '596', '609', '495', '501', '483', '333', '331', '386', '323', '341', '221', '204', '195', '236', '220', '184', '182', '160', '110', '100', '97', '84', '78', '60', '47', '39', '31', '29', '20', '20', '4', '5', '2', '3', '1', '5']\n"
          ]
        }
      ]
    },
    {
      "cell_type": "code",
      "metadata": {
        "id": "NhiJ-QWZTieu"
      },
      "source": [
        "# '연산제9동'0세~부터 \n",
        "for row in data:\n",
        "  if '연산제9동' in row[0]:\n",
        "    for i in row[3:]:\n",
        "      print(i)"
      ],
      "execution_count": null,
      "outputs": []
    },
    {
      "cell_type": "code",
      "metadata": {
        "colab": {
          "base_uri": "https://localhost:8080/"
        },
        "id": "-AyayJTZTz_Z",
        "outputId": "ae061398-1a9b-4741-bf97-ac165271c33c"
      },
      "source": [
        "# 이 결과를 result = [] 에 저장\n",
        "import csv\n",
        "f = open('age.csv')\n",
        "data = csv.reader(f)\n",
        "result = []\n",
        "for row in data :\n",
        "    if '연산제9동' in row[0] :\n",
        "        for i in row[3:] :\n",
        "            result.append(int(i))\n",
        "print(result)"
      ],
      "execution_count": null,
      "outputs": [
        {
          "output_type": "stream",
          "name": "stdout",
          "text": [
            "[166, 170, 195, 216, 224, 282, 271, 269, 277, 280, 277, 276, 261, 289, 276, 255, 286, 293, 322, 334, 386, 406, 389, 437, 421, 459, 414, 427, 467, 428, 408, 406, 393, 404, 393, 430, 419, 420, 492, 496, 563, 556, 513, 501, 478, 473, 466, 540, 558, 564, 629, 600, 642, 717, 625, 619, 572, 534, 652, 643, 746, 744, 688, 615, 632, 596, 609, 495, 501, 483, 333, 331, 386, 323, 341, 221, 204, 195, 236, 220, 184, 182, 160, 110, 100, 97, 84, 78, 60, 47, 39, 31, 29, 20, 20, 4, 5, 2, 3, 1, 5]\n"
          ]
        }
      ]
    },
    {
      "cell_type": "code",
      "metadata": {
        "colab": {
          "base_uri": "https://localhost:8080/",
          "height": 264
        },
        "id": "91uXjWlrUFE6",
        "outputId": "1f0c5d56-c4ec-4114-8524-568edb5f7f96"
      },
      "source": [
        "# ggplot\n",
        "import matplotlib.pyplot as plt\n",
        "plt.style.use('ggplot')\n",
        "plt.plot(result)\n",
        "plt.show()"
      ],
      "execution_count": null,
      "outputs": [
        {
          "output_type": "display_data",
          "data": {
            "image/png": "[encoded data removed]",
            "text/plain": [
              "<Figure size 432x288 with 1 Axes>"
            ]
          },
          "metadata": {}
        }
      ]
    },
    {
      "cell_type": "markdown",
      "metadata": {
        "id": "1ODGvagwUIPK"
      },
      "source": [
        "## (해결문제) 지역 이름 입력 받아 해당 지역의 인구 구조 출력하기\n",
        "\n",
        "```\n",
        "name = input('인구 구조가 알고 싶은 지역의 이름(읍면동 단위)을 입력해주세요 : ')\n",
        "\n",
        "plt.title(name +' 지역의 인구 구조')\n",
        "```"
      ]
    },
    {
      "cell_type": "code",
      "metadata": {
        "id": "FqosUB5hsRvZ",
        "colab": {
          "base_uri": "https://localhost:8080/",
          "height": 298
        },
        "outputId": "2b689ef7-5ff1-4e58-d8b1-425b3d2d4ddb"
      },
      "source": [
        "import csv\n",
        "f = open('age.csv')\n",
        "data = csv.reader(f)\n",
        "result = []\n",
        "name = input('인구 구조가 알고 싶은 지역의 이름(읍면동 단위)을 입력해주세요 : ')\n",
        "for row in data :\n",
        "    if name in row[0] :\n",
        "        for i in row[3:] :\n",
        "            result.append(int(i)) \n",
        "            #result.append(int(i.replace(',',''))) - error 시\n",
        "            \n",
        "import matplotlib.pyplot as plt\n",
        "plt.style.use('ggplot')\n",
        "plt.rc('font', family = 'NanumGothic')\n",
        "plt.title(name +' 지역의 인구 구조')\n",
        "plt.plot(result)\n",
        "plt.show()"
      ],
      "execution_count": null,
      "outputs": [
        {
          "name": "stdout",
          "output_type": "stream",
          "text": [
            "인구 구조가 알고 싶은 지역의 이름(읍면동 단위)을 입력해주세요 : 연산제9동\n"
          ]
        },
        {
          "output_type": "display_data",
          "data": {
            "image/png": "[encoded data removed]",
            "text/plain": [
              "<Figure size 432x288 with 1 Axes>"
            ]
          },
          "metadata": {}
        }
      ]
    },
    {
      "cell_type": "code",
      "metadata": {
        "id": "kLIav45YsRvc",
        "colab": {
          "base_uri": "https://localhost:8080/",
          "height": 264
        },
        "outputId": "c095079e-9997-45e0-a13e-f007a6f11fad"
      },
      "source": [
        "import matplotlib.pyplot as plt\n",
        "plt.bar([0,1,2,4,6,10], [1,2,3,5,6,7])\n",
        "plt.show()"
      ],
      "execution_count": null,
      "outputs": [
        {
          "output_type": "display_data",
          "data": {
            "image/png": "[encoded data removed]",
            "text/plain": [
              "<Figure size 432x288 with 1 Axes>"
            ]
          },
          "metadata": {}
        }
      ]
    },
    {
      "cell_type": "code",
      "metadata": {
        "id": "1VFLda7bsRvd",
        "colab": {
          "base_uri": "https://localhost:8080/",
          "height": 264
        },
        "outputId": "fa1b63c0-b3a5-49c9-8d0c-45c70a9973c8"
      },
      "source": [
        "import matplotlib.pyplot as plt\n",
        "plt.bar(range(6), [1,2,3,5,6,7])\n",
        "plt.show()"
      ],
      "execution_count": null,
      "outputs": [
        {
          "output_type": "display_data",
          "data": {
            "image/png": "[encoded data removed]",
            "text/plain": [
              "<Figure size 432x288 with 1 Axes>"
            ]
          },
          "metadata": {}
        }
      ]
    },
    {
      "cell_type": "code",
      "metadata": {
        "id": "DgSX08fJsRvd",
        "colab": {
          "base_uri": "https://localhost:8080/",
          "height": 264
        },
        "outputId": "ec3ab552-201d-4817-cbfe-b82897ac11f9"
      },
      "source": [
        "import csv\n",
        "f = open('age.csv')\n",
        "data = csv.reader(f)\n",
        "\n",
        "result = []\n",
        "for row in data :\n",
        "    if '연산제9동' in row[0] :\n",
        "        for i in row[3:] :\n",
        "            result.append(int(i))\n",
        "            \n",
        "import matplotlib.pyplot as plt    \n",
        "plt.bar(range(101), result)\n",
        "plt.show()"
      ],
      "execution_count": null,
      "outputs": [
        {
          "output_type": "display_data",
          "data": {
            "image/png": "[encoded data removed]",
            "text/plain": [
              "<Figure size 432x288 with 1 Axes>"
            ]
          },
          "metadata": {}
        }
      ]
    },
    {
      "cell_type": "code",
      "metadata": {
        "id": "50gieirXsRve",
        "colab": {
          "base_uri": "https://localhost:8080/",
          "height": 264
        },
        "outputId": "3dfefec4-0456-4029-ce4d-18f6a59d8649"
      },
      "source": [
        "import csv\n",
        "f = open('age.csv')\n",
        "data = csv.reader(f)\n",
        "\n",
        "result = []\n",
        "for row in data :\n",
        "    if '연산제9동' in row[0] :\n",
        "        for i in row[3:] :\n",
        "            result.append(int(i))\n",
        "            \n",
        "import matplotlib.pyplot as plt\n",
        "#plt.figure(figsize = (10,5), dpi=300)            \n",
        "plt.barh(range(101), result)\n",
        "plt.show()"
      ],
      "execution_count": null,
      "outputs": [
        {
          "output_type": "display_data",
          "data": {
            "image/png": "[encoded data removed]",
            "text/plain": [
              "<Figure size 432x288 with 1 Axes>"
            ]
          },
          "metadata": {}
        }
      ]
    },
    {
      "cell_type": "markdown",
      "metadata": {
        "id": "bi326kZKUwdn"
      },
      "source": [
        "# 성별 항아리 그래프"
      ]
    },
    {
      "cell_type": "markdown",
      "metadata": {
        "id": "DaqJ1f0_XXy5"
      },
      "source": [
        "[인덱스](https://docs.google.com/presentation/d/1hgHgDcqMj05TYC0b_b_bxrm75_Ullki3GQrGsvGVgng/edit?usp=sharing)"
      ]
    },
    {
      "cell_type": "code",
      "metadata": {
        "id": "SZlCXaUr5eKP"
      },
      "source": [
        "import csv\n",
        "f = open('1gender.csv')\n",
        "data = csv.reader(f)"
      ],
      "execution_count": null,
      "outputs": []
    },
    {
      "cell_type": "code",
      "metadata": {
        "id": "wZLJfUmSsRvf"
      },
      "source": [
        "import csv\n",
        "f = open('1gender.csv')\n",
        "data = csv.reader(f)\n",
        "m = []\n",
        "f = []\n",
        "for row in data :\n",
        "    if '연산제9동' in row[0] :\n",
        "        for i in range(0,101) :\n",
        "            m.append(int(row[i+3]))\n",
        "            f.append(int(row[-(i+1)]))\n",
        "f.reverse()"
      ],
      "execution_count": null,
      "outputs": []
    },
    {
      "cell_type": "code",
      "metadata": {
        "id": "GfFo2Yj2sRvf"
      },
      "source": [
        "import csv\n",
        "f =open('gender.csv')\n",
        "data = csv.reader(f)\n",
        "m = []\n",
        "f = []\n",
        "for row in data :\n",
        "    if'연산제9동'in row[0] :\n",
        "        for i in row[3:104] : \n",
        "            m.append(-int(i.replace(',',''))) # 마이너스 부호를 넣어서 음수로 변경\n",
        "        for i in row[106:] :            \n",
        "            f.append(int(i.replace(',','')))"
      ],
      "execution_count": null,
      "outputs": []
    },
    {
      "cell_type": "code",
      "metadata": {
        "id": "H4H4GvEl4Qlw"
      },
      "source": [
        "f"
      ],
      "execution_count": null,
      "outputs": []
    },
    {
      "cell_type": "code",
      "metadata": {
        "colab": {
          "base_uri": "https://localhost:8080/"
        },
        "id": "SN17QH13--Cl",
        "outputId": "20c062cc-6dde-43f8-9a0d-d84d74370d01"
      },
      "source": [
        "len(f)"
      ],
      "execution_count": null,
      "outputs": [
        {
          "output_type": "execute_result",
          "data": {
            "text/plain": [
              "101"
            ]
          },
          "metadata": {},
          "execution_count": 77
        }
      ]
    },
    {
      "cell_type": "code",
      "metadata": {
        "colab": {
          "base_uri": "https://localhost:8080/"
        },
        "id": "y1sYAmRR_EBZ",
        "outputId": "9e3f56bf-95ce-41c7-a997-a9bbc17e90b4"
      },
      "source": [
        "len(m)"
      ],
      "execution_count": null,
      "outputs": [
        {
          "output_type": "execute_result",
          "data": {
            "text/plain": [
              "101"
            ]
          },
          "metadata": {},
          "execution_count": 78
        }
      ]
    },
    {
      "cell_type": "code",
      "metadata": {
        "id": "0zfmU6ujsRvg",
        "colab": {
          "base_uri": "https://localhost:8080/",
          "height": 264
        },
        "outputId": "03b9a2ea-2dca-4161-fcc1-0d2fae27c142"
      },
      "source": [
        "import matplotlib.pyplot as plt\n",
        "plt.barh(range(len(m)), m)\n",
        "plt.barh(range(len(f)), f)\n",
        "plt.show()"
      ],
      "execution_count": null,
      "outputs": [
        {
          "output_type": "display_data",
          "data": {
            "image/png": "[encoded data removed]",
            "text/plain": [
              "<Figure size 432x288 with 1 Axes>"
            ]
          },
          "metadata": {}
        }
      ]
    },
    {
      "cell_type": "code",
      "metadata": {
        "id": "o7yVIj8VsRvh",
        "colab": {
          "base_uri": "https://localhost:8080/",
          "height": 280
        },
        "outputId": "8145b519-f573-4558-fdfa-086e9f8d5e7b"
      },
      "source": [
        "import matplotlib.pyplot as plt\n",
        "plt.rc('font', family = 'NanumGothic')\n",
        "plt.title('연산제9동 지역의 남녀 성별 인구 분포')\n",
        "plt.barh(range(len(m)), m, label = '남성')\n",
        "plt.barh(range(len(f)), f, label = '여성')\n",
        "plt.legend()\n",
        "plt.show()\n"
      ],
      "execution_count": null,
      "outputs": [
        {
          "output_type": "display_data",
          "data": {
            "image/png": "[encoded data removed]",
            "text/plain": [
              "<Figure size 432x288 with 1 Axes>"
            ]
          },
          "metadata": {}
        }
      ]
    },
    {
      "cell_type": "code",
      "metadata": {
        "id": "DGoy_L-_sRvh",
        "colab": {
          "base_uri": "https://localhost:8080/",
          "height": 280
        },
        "outputId": "bde9cead-4942-4828-90fa-019b4ee3a3cb"
      },
      "source": [
        "import matplotlib.pyplot as plt\n",
        "plt.style.use('ggplot')\n",
        "#plt.figure(figsize = (10,5), dpi=300)\n",
        "plt.rc('font', family = 'NanumGothic')\n",
        "plt.rcParams['axes.unicode_minus'] = False\n",
        "plt.title('연산제9동 지역의 남녀 성별 인구 분포')\n",
        "plt.barh(range(len(m)), m, label = '남성')\n",
        "plt.barh(range(len(f)), f, label = '여성')\n",
        "plt.legend()\n",
        "plt.show()"
      ],
      "execution_count": null,
      "outputs": [
        {
          "output_type": "display_data",
          "data": {
            "image/png": "[encoded data removed]",
            "text/plain": [
              "<Figure size 432x288 with 1 Axes>"
            ]
          },
          "metadata": {}
        }
      ]
    },
    {
      "cell_type": "code",
      "metadata": {
        "id": "Cm69NmwxsRvi",
        "colab": {
          "base_uri": "https://localhost:8080/",
          "height": 298
        },
        "outputId": "c9be5efd-05ed-4a09-d3b4-767456c8f9f4"
      },
      "source": [
        "import csv\n",
        "f = open('gender.csv')\n",
        "data = csv.reader(f)\n",
        " \n",
        "m = []\n",
        "f = []\n",
        " \n",
        "name = input('찾고 싶은 지역의 이름을 알려주세요 : ')\n",
        "for row in data :\n",
        "    if name in row[0] :\n",
        "        for i in row[3:104] :\n",
        "            m.append(-int(i))\n",
        "        for i in row[106:] :\n",
        "            f.append(int(i))\n",
        "\n",
        "import matplotlib.pyplot as plt\n",
        "plt.style.use('ggplot')\n",
        "#plt.figure(figsize = (10,5), dpi=300)\n",
        "plt.rc('font', family = 'NanumGothic')\n",
        "plt.rcParams['axes.unicode_minus'] = False\n",
        "plt.title(name + ' 지역의 남녀 성별 인구 분포')\n",
        "plt.barh(range(len(m)), m, label = '남성')\n",
        "plt.barh(range(len(f)), f, label = '여성')\n",
        "\n",
        "plt.legend()\n",
        "plt.show()"
      ],
      "execution_count": null,
      "outputs": [
        {
          "name": "stdout",
          "output_type": "stream",
          "text": [
            "찾고 싶은 지역의 이름을 알려주세요 : 연산\n"
          ]
        },
        {
          "output_type": "display_data",
          "data": {
            "image/png": "[encoded data removed]",
            "text/plain": [
              "<Figure size 432x288 with 1 Axes>"
            ]
          },
          "metadata": {}
        }
      ]
    },
    {
      "cell_type": "markdown",
      "metadata": {
        "id": "R6Ckzqmocj-K"
      },
      "source": [
        "## 해결과제 \n",
        "1. '해운대구' 입력시 발생하는 에러 해결 \n",
        "2. 파이 그래프\n",
        "3. 산점도 그래프 그리기\n",
        "\n",
        "```\n",
        "size = []\n",
        "name = input('찾고 싶은 지역의 이름을 알려주세요 : ')\n",
        "for row in data :\n",
        "    if name in row[0] :\n",
        "        m = 0\n",
        "        f = 0\n",
        "        for i in range(101) :\n",
        "            m += int(row[i+3])\n",
        "            f += int(row[i+106])\n",
        "        break\n",
        "size.append(m)\n",
        "size.append(f)\n",
        "```"
      ]
    },
    {
      "cell_type": "code",
      "metadata": {
        "id": "gkKHPw_7fDVx"
      },
      "source": [
        "# 에러\n",
        "import csv\n",
        "f = open('gender.csv')\n",
        "data = csv.reader(f)\n",
        "\n",
        "m = []\n",
        "f = []\n",
        "\n",
        "name = input('찾고 싶은 지역의 이름을 알려주세요 : ')\n",
        "for row in data :\n",
        "    if name in row[0] :\n",
        "        for i in row[3:104] :\n",
        "            m.append(-int(i))\n",
        "        for i in row[106:] :\n",
        "            f.append(int(i))\n",
        "#break\n",
        "import matplotlib.pyplot as plt\n",
        "plt.style.use('ggplot')\n",
        "plt.figure(figsize = (10,5), dpi=300)\n",
        "plt.rc('font', family = 'Malgun Gothic')\n",
        "plt.rcParams['axes.unicode_minus'] = False\n",
        "plt.title(name + ' 지역의 남녀 성별 인구 분포')\n",
        "plt.barh(range(101), m, label = '남성')\n",
        "plt.barh(range(101), f, label = '여성')\n",
        "plt.legend()\n",
        "plt.show()"
      ],
      "execution_count": null,
      "outputs": []
    },
    {
      "cell_type": "code",
      "metadata": {
        "colab": {
          "base_uri": "https://localhost:8080/"
        },
        "id": "1hjy-ySUfSwX",
        "outputId": "d4c77ba0-a40d-4e58-e805-67aa8e0b8c39"
      },
      "source": [
        "print(len(m), len(f))"
      ],
      "execution_count": null,
      "outputs": [
        {
          "output_type": "stream",
          "name": "stdout",
          "text": [
            "1010 1010\n"
          ]
        }
      ]
    },
    {
      "cell_type": "markdown",
      "metadata": {
        "id": "qrf517Rsh8BK"
      },
      "source": [
        "## 파이 그래프"
      ]
    },
    {
      "cell_type": "code",
      "metadata": {
        "id": "bhIc7a8Hf0AK"
      },
      "source": [
        "# 파이 그래프\n",
        "import csv\n",
        "f = open('gender.csv')\n",
        "data = csv.reader(f)\n",
        "\n",
        "size = []\n",
        "\n",
        "name = input('찾고 싶은 지역의 이름을 알려주세요 : ')\n",
        "for row in data :\n",
        "    if name in row[0] :\n",
        "        m = 0\n",
        "        f = 0\n",
        "        for i in range(101) :\n",
        "            m += int(row[i+3])\n",
        "            f += int(row[i+106])\n",
        "        break\n",
        "size.append(m)\n",
        "size.append(f)\n",
        "\n",
        "import matplotlib.pyplot as plt\n",
        "plt.rc('font', family ='Malgun Gothic')\n",
        "color = ['crimson', 'darkcyan']\n",
        "plt.axis('equal')\n",
        "plt.pie(size, labels = ['남','여'], autopct ='%.1f%%', colors = color, startangle =90)\n",
        "plt.title(name + ' 지역의 남녀 성별 비율')\n",
        "plt.show()"
      ],
      "execution_count": null,
      "outputs": []
    },
    {
      "cell_type": "markdown",
      "metadata": {
        "id": "aPMy2r5fiot9"
      },
      "source": [
        "## 산점도 그래프\n",
        "```\n",
        "plt.style.use('ggplot')\n",
        "plt.scatter(m, f, c=range(101), alpha=0.5, cmap='jet')\n",
        "plt.colorbar()\n",
        "plt.plot(range(max(m)),range(max(m)), 'g')\n",
        "```"
      ]
    },
    {
      "cell_type": "code",
      "metadata": {
        "colab": {
          "base_uri": "https://localhost:8080/",
          "height": 535
        },
        "id": "73EmLCkNg7mH",
        "outputId": "106e94cf-45be-4af7-dd69-0878f2c9bf95"
      },
      "source": [
        "# 산점도\n",
        "import csv\n",
        "f = open('gender.csv')\n",
        "data = csv.reader(f)\n",
        "m = []\n",
        "f = []\n",
        "name = input('궁금한 동네를 입력해주세요 : ')\n",
        "for row in data :\n",
        "    if name in row[0] :\n",
        "        for i in range(3,104) : \n",
        "            m.append(int(row[i]))\n",
        "            f.append(int(row[i+103]))        \n",
        "        break\n",
        "\n",
        "import matplotlib.pyplot as plt\n",
        "plt.style.use('ggplot')\n",
        "plt.scatter(m, f)\n",
        "plt.show()\n",
        "\n",
        "import matplotlib.pyplot as plt\n",
        "plt.style.use('ggplot')\n",
        "plt.scatter(m, f, c=range(101), alpha=0.5, cmap='jet')\n",
        "plt.colorbar()\n",
        "plt.plot(range(max(m)),range(max(m)), 'g')\n",
        "plt.show()"
      ],
      "execution_count": null,
      "outputs": [
        {
          "name": "stdout",
          "output_type": "stream",
          "text": [
            "궁금한 동네를 입력해주세요 : 연산\n"
          ]
        },
        {
          "output_type": "display_data",
          "data": {
            "image/png": "[encoded data removed]",
            "text/plain": [
              "<Figure size 432x288 with 1 Axes>"
            ]
          },
          "metadata": {}
        },
        {
          "output_type": "display_data",
          "data": {
            "image/png": "[encoded data removed]",
            "text/plain": [
              "<Figure size 432x288 with 2 Axes>"
            ]
          },
          "metadata": {}
        }
      ]
    },
    {
      "cell_type": "code",
      "metadata": {
        "id": "WnS6B0adhNhH"
      },
      "source": [
        "import csv\n",
        "import math\n",
        "f = open('gender.csv')\n",
        "data = csv.reader(f)\n",
        "m = []\n",
        "f = []\n",
        "size = []\n",
        "name = input('궁금한 동네를 입력해주세요 : ')\n",
        "for row in data :\n",
        "    if name in row[0] :\n",
        "        for i in range(3,104) : \n",
        "            m.append(int(row[i]))\n",
        "            f.append(int(row[i+103]))\n",
        "            size.append(math.sqrt(int(row[i]) + int(row[i+103])))\n",
        "        break\n",
        "        \n",
        "import matplotlib.pyplot as plt\n",
        "plt.style.use('ggplot')\n",
        "plt.rc('font',family='Malgun Gothic')\n",
        "#plt.figure(figsize = (10,5), dpi=300)            \n",
        "plt.title(name+' 지역의 성별 인구 그래프')\n",
        "plt.scatter(m, f, s = size, c = range(101), alpha=0.5, cmap='jet')\n",
        "plt.colorbar()\n",
        "plt.plot(range(max(m)),range(max(m)), 'g')\n",
        "plt.xlabel('남성 인구 수')\n",
        "plt.ylabel('여성 인구 수')\n",
        "plt.show()"
      ],
      "execution_count": null,
      "outputs": []
    },
    {
      "cell_type": "markdown",
      "metadata": {
        "id": "QfsE6Kauf1A_"
      },
      "source": [
        "## color code"
      ]
    },
    {
      "cell_type": "code",
      "metadata": {
        "id": "PqUv2KLigQNb"
      },
      "source": [
        "import matplotlib.pyplot as plt\n",
        "from matplotlib import colors as mcolors\n",
        "\n",
        "\n",
        "colors = dict(mcolors.BASE_COLORS, **mcolors.CSS4_COLORS)\n",
        "\n",
        "# Sort colors by hue, saturation, value and name.\n",
        "by_hsv = sorted((tuple(mcolors.rgb_to_hsv(mcolors.to_rgba(color)[:3])), name)\n",
        "                for name, color in colors.items())\n",
        "sorted_names = [name for hsv, name in by_hsv]\n",
        "\n",
        "n = len(sorted_names)\n",
        "ncols = 4\n",
        "nrows = n // ncols\n",
        "\n",
        "fig, ax = plt.subplots(figsize=(9, 8), dpi = 300)\n",
        "\n",
        "# Get height and width\n",
        "X, Y = fig.get_dpi() * fig.get_size_inches()\n",
        "h = Y / (nrows + 1)\n",
        "w = X / ncols\n",
        "\n",
        "for i, name in enumerate(sorted_names):\n",
        "    row = i % nrows\n",
        "    col = i // nrows\n",
        "    y = Y - (row * h) - h\n",
        "\n",
        "    xi_line = w * (col + 0.05)\n",
        "    xf_line = w * (col + 0.25)\n",
        "    xi_text = w * (col + 0.3)\n",
        "\n",
        "    ax.text(xi_text, y, name, fontsize=(10),\n",
        "            horizontalalignment='left',\n",
        "            verticalalignment='center')\n",
        "\n",
        "    ax.hlines(y + h * 0.1, xi_line, xf_line,\n",
        "              color=colors[name], linewidth=(6))\n",
        "\n",
        "ax.set_xlim(0, X)\n",
        "ax.set_ylim(0, Y)\n",
        "ax.set_axis_off()\n",
        "\n",
        "fig.subplots_adjust(left=0, right=1,\n",
        "                    top=1, bottom=0,\n",
        "                    hspace=0, wspace=0)\n",
        "plt.show()"
      ],
      "execution_count": null,
      "outputs": []
    }
  ]
}